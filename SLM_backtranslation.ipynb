{
  "nbformat": 4,
  "nbformat_minor": 0,
  "metadata": {
    "colab": {
      "name": "SLM_backtranslation.ipynb",
      "provenance": [],
      "collapsed_sections": [],
      "authorship_tag": "ABX9TyNEfMOy8smLxkj1fTxUdyq9",
      "include_colab_link": true
    },
    "kernelspec": {
      "name": "python3",
      "display_name": "Python 3"
    },
    "language_info": {
      "name": "python"
    }
  },
  "cells": [
    {
      "cell_type": "markdown",
      "metadata": {
        "id": "view-in-github",
        "colab_type": "text"
      },
      "source": [
        "<a href=\"https://colab.research.google.com/github/erumbold/SLM-Backtranslation/blob/main/SLM_backtranslation.ipynb\" target=\"_parent\"><img src=\"https://colab.research.google.com/assets/colab-badge.svg\" alt=\"Open In Colab\"/></a>"
      ]
    },
    {
      "cell_type": "markdown",
      "metadata": {
        "id": "bh_cfI6zAjvm"
      },
      "source": [
        "## Data Organization\n",
        "\n",
        "Sorting sentence pairs by length of starting language (English)."
      ]
    },
    {
      "cell_type": "code",
      "metadata": {
        "colab": {
          "base_uri": "https://localhost:8080/"
        },
        "id": "Ara9r2qVIfOc",
        "outputId": "81a632b8-440d-4a23-c3bf-e30cdaa3f68f"
      },
      "source": [
        "# mount Google Drive\n",
        "from google.colab import drive\n",
        "drive.mount('/content/drive')\n",
        "\n",
        "# REQUIRED - change to directory within Google Drive where .tmx file is saved\n",
        "file_path = \"/content/drive/My Drive/SLM/\"\n",
        "\n",
        "!ls \"/content/drive/My Drive/SLM\""
      ],
      "execution_count": null,
      "outputs": [
        {
          "output_type": "stream",
          "text": [
            "Drive already mounted at /content/drive; to attempt to forcibly remount, call drive.mount(\"/content/drive\", force_remount=True).\n",
            " bid_sheet2.gsheet\n",
            "'COMET: Commonsense Transformers for Automatic Knowledge Graph Construction.gslides'\n",
            " en-es.tmx\n",
            " en-fr-sorted-en.txt\n",
            " en-fr-sorted-fr.txt\n",
            " en-fr-sorted-pairs.txt\n",
            " en-fr.tmx\n",
            "'Paper Summaries'\n",
            "'Recurrent Neural Network Based Language Model.gslides'\n",
            " SLM_backtranslation.ipynb\n"
          ],
          "name": "stdout"
        }
      ]
    },
    {
      "cell_type": "markdown",
      "metadata": {
        "id": "ji3bTbhOBqhr"
      },
      "source": [
        "### Read translation file (.tmx) to dictionary of English:2nd Language pairs"
      ]
    },
    {
      "cell_type": "code",
      "metadata": {
        "id": "5_JIW1XFg8A2",
        "colab": {
          "base_uri": "https://localhost:8080/"
        },
        "outputId": "e959967c-7fc8-4660-f705-7ae9a96647f8"
      },
      "source": [
        "import xml.etree.ElementTree as ET\n",
        "\n",
        "tmx_file = \"en-es.tmx\"\n",
        "tree = ET.parse(file_path+tmx_file)\n",
        "body = tree.getroot()[1]\n",
        "\n",
        "translation_dict = {}\n",
        "\n",
        "for tu in body:\n",
        "  translation_dict[tu[0][0].text] = tu[1][0].text\n",
        "\n",
        "print(len(translation_dict))"
      ],
      "execution_count": null,
      "outputs": [
        {
          "output_type": "stream",
          "text": [
            "1714910\n"
          ],
          "name": "stdout"
        }
      ]
    },
    {
      "cell_type": "markdown",
      "metadata": {
        "id": "g6SXbhgkMue1"
      },
      "source": [
        "### Sort sentence pairs by length of English version"
      ]
    },
    {
      "cell_type": "code",
      "metadata": {
        "id": "xppk7JsjMtmy"
      },
      "source": [
        "# sort English sentences by length\n",
        "eng = sorted(translation_dict.keys(), key=len)\n",
        "\n",
        "# open text files\n",
        "pair_file = open(file_path+\"en-es-sorted-pairs.txt\", 'w')\n",
        "eng_file = open(file_path+\"en-es-sorted-en.txt\", 'w')\n",
        "translate_file = open(file_path+\"en-es-sorted-es.txt\", 'w')\n",
        "\n",
        "# write sentences to text files\n",
        "for e in eng:\n",
        "  eng_file.write(e+'\\n')\n",
        "  translate_file.write(translation_dict[e]+'\\n')\n",
        "\n",
        "  pair_file.write(e+'\\n')\n",
        "  pair_file.write(translation_dict[e]+'\\n\\n')\n",
        "\n",
        "pair_file.close()\n",
        "eng_file.close()\n",
        "translate_file.close()"
      ],
      "execution_count": null,
      "outputs": []
    }
  ]
}